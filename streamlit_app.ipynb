{
 "cells": [
  {
   "cell_type": "code",
   "execution_count": null,
   "id": "74ed4781-b37e-42c1-b0b5-87a6e38f56d8",
   "metadata": {},
   "outputs": [],
   "source": [
    "import os, streamlit as st, psycopg2, pandas as pd, plotly.express as px\n",
    "\n",
    "# ── DB credentials ──\n",
    "DB = dict(\n",
    "    host     = st.secrets[\"DB_HOST\"]     if \"DB_HOST\"     in st.secrets else \"localhost\",\n",
    "    dbname   = st.secrets[\"DB_NAME\"]     if \"DB_NAME\"     in st.secrets else \"paintings_submission\",\n",
    "    user     = st.secrets[\"DB_USER\"]     if \"DB_USER\"     in st.secrets else \"postgres\",\n",
    "    password = st.secrets[\"DB_PASSWORD\"] if \"DB_PASSWORD\" in st.secrets else \"Asodit7878@95\",\n",
    "    port     = st.secrets.get(\"DB_PORT\", 5432),\n",
    ")\n",
    "\n",
    "@st.cache_data(show_spinner=False)\n",
    "def run_query(q, params=None):\n",
    "    with psycopg2.connect(**DB) as conn:\n",
    "        return pd.read_sql_query(q, conn, params=params)\n",
    "\n",
    "st.title(\"🎨 Paintings Database Explorer\")\n",
    "page = st.sidebar.selectbox(\"Page\",\n",
    "        [\"Artists\", \"Museums\", \"Works by Style\", \"Price-vs-Size\"])\n",
    "\n",
    "if page == \"Artists\":\n",
    "    st.dataframe(run_query(\n",
    "        \"SELECT artist_id,last_name,first_name,nationality,style,birth,death \"\n",
    "        \"FROM artist ORDER BY last_name\"))\n",
    "elif page == \"Museums\":\n",
    "    st.dataframe(run_query(\n",
    "        \"SELECT m.museum_id,name,pc.city,pc.state,pc.country,url \"\n",
    "        \"FROM museum m LEFT JOIN postalcode pc USING(postal)\"\n",
    "        \"ORDER BY country,state,city\").set_index(\"museum_id\"))\n",
    "elif page == \"Works by Style\":\n",
    "    df = run_query(\n",
    "        \"SELECT style,COUNT(*) AS works FROM work WHERE style IS NOT NULL \"\n",
    "        \"GROUP BY style ORDER BY works DESC LIMIT 20\")\n",
    "    st.plotly_chart(\n",
    "        px.bar(df, x=\"style\", y=\"works\", title=\"Top 20 styles\"), use_container_width=True)\n",
    "else:\n",
    "    df = run_query(\n",
    "        \"SELECT cs.width*cs.height AS area, ps.sale_price, w.style \"\n",
    "        \"FROM product_size ps JOIN canvas_size cs USING(size_id) JOIN work w USING(work_id) \"\n",
    "        \"WHERE ps.sale_price IS NOT NULL\")\n",
    "    st.plotly_chart(\n",
    "        px.scatter(df, x=\"area\", y=\"sale_price\", color=\"style\",\n",
    "                   labels=dict(area=\"Canvas area\", sale_price=\"Sale price\")),\n",
    "        use_container_width=True)\n"
   ]
  }
 ],
 "metadata": {
  "kernelspec": {
   "display_name": "Python [conda env:base] *",
   "language": "python",
   "name": "conda-base-py"
  },
  "language_info": {
   "codemirror_mode": {
    "name": "ipython",
    "version": 3
   },
   "file_extension": ".py",
   "mimetype": "text/x-python",
   "name": "python",
   "nbconvert_exporter": "python",
   "pygments_lexer": "ipython3",
   "version": "3.12.7"
  }
 },
 "nbformat": 4,
 "nbformat_minor": 5
}
